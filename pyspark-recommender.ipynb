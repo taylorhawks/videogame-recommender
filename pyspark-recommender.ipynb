{
 "cells": [
  {
   "cell_type": "code",
   "execution_count": 60,
   "metadata": {},
   "outputs": [],
   "source": [
    "import pyspark\n",
    "from pyspark.sql import SQLContext\n",
    "from pyspark.sql.functions import col, lit\n",
    "from pyspark.sql import Row\n",
    "from pyspark.sql import functions as F\n",
    "from pyspark.sql.window import Window\n",
    "#machine learning\n",
    "from pyspark.mllib.linalg.distributed import CoordinateMatrix, MatrixEntry\n",
    "from pyspark.mllib.linalg import SparseVector\n",
    "from pyspark.ml.recommendation import ALS, ALSModel\n",
    "\n",
    "from pyspark.sql.types import IntegerType\n",
    "from pyspark.mllib.evaluation import RegressionMetrics, RankingMetrics\n",
    "from pyspark.ml.evaluation import RegressionEvaluator\n",
    "import numpy as np\n",
    "import pandas as pd\n",
    "from time import time"
   ]
  },
  {
   "cell_type": "code",
   "execution_count": 2,
   "metadata": {},
   "outputs": [],
   "source": [
    "sc = pyspark.SparkContext('local[*]')\n",
    "sql_c = SQLContext(sc) "
   ]
  },
  {
   "cell_type": "code",
   "execution_count": 4,
   "metadata": {},
   "outputs": [],
   "source": [
    "games = sql_c.read.csv('./all_games.csv',header=True).drop('_c0')"
   ]
  },
  {
   "cell_type": "code",
   "execution_count": 5,
   "metadata": {},
   "outputs": [
    {
     "name": "stdout",
     "output_type": "stream",
     "text": [
      "+---+--------------------+\n",
      "| id|                name|\n",
      "+---+--------------------+\n",
      "| 10|      Counter-Strike|\n",
      "| 20|Team Fortress Cla...|\n",
      "| 30|       Day of Defeat|\n",
      "| 40|  Deathmatch Classic|\n",
      "| 50|Half-Life: Opposi...|\n",
      "+---+--------------------+\n",
      "only showing top 5 rows\n",
      "\n"
     ]
    }
   ],
   "source": [
    "games.show(5)"
   ]
  },
  {
   "cell_type": "code",
   "execution_count": 100,
   "metadata": {},
   "outputs": [],
   "source": [
    "ratings = sql_c.read.csv('./user_ratings.csv',header=True)\n",
    "ratings = ratings.filter(col('time_f')!=0).drop('_c0').drop('time_f')\n",
    "ratings = ratings.na.drop() "
   ]
  },
  {
   "cell_type": "code",
   "execution_count": 101,
   "metadata": {},
   "outputs": [],
   "source": [
    "username_remap = ratings.select('user').distinct()\n",
    "w = Window.orderBy(\"user\")\n",
    "username_remap = username_remap.select(\"user\", F.row_number().over(w))\n",
    "rdf = ratings.join(username_remap, username_remap.user == ratings.user)\n",
    "ratings = rdf.select(col(rdf.schema.names[-1]).alias('user'), 'game', 'rating')"
   ]
  },
  {
   "cell_type": "code",
   "execution_count": 102,
   "metadata": {},
   "outputs": [
    {
     "name": "stdout",
     "output_type": "stream",
     "text": [
      "+----+-----+------------------+\n",
      "|user| game|            rating|\n",
      "+----+-----+------------------+\n",
      "|  56|  220| 0.251373588226222|\n",
      "|  56|29800| 0.355938927193069|\n",
      "|  56|  550|0.7221448294731989|\n",
      "|  56|34270| 0.194557132271704|\n",
      "|  56|42910|0.7853635740402285|\n",
      "+----+-----+------------------+\n",
      "only showing top 5 rows\n",
      "\n"
     ]
    }
   ],
   "source": [
    "ratings.show(5) "
   ]
  },
  {
   "cell_type": "markdown",
   "metadata": {},
   "source": [
    "# Train Test Lit"
   ]
  },
  {
   "cell_type": "code",
   "execution_count": 103,
   "metadata": {},
   "outputs": [],
   "source": [
    "(training, test) = ratings.select(\n",
    "    [col(c).cast('float') for c in ratings.columns]\n",
    ").na.drop().randomSplit([0.8, 0.2])"
   ]
  },
  {
   "cell_type": "code",
   "execution_count": 104,
   "metadata": {},
   "outputs": [],
   "source": [
    "def fit_als(training,test,reg,rank=10,should_test=True):\n",
    "    als = ALS(\n",
    "        maxIter=5,\n",
    "        regParam=reg, \n",
    "        userCol=\"user\", itemCol=\"game\", ratingCol=\"rating\",\n",
    "        coldStartStrategy=\"drop\",\n",
    "        implicitPrefs=False,\n",
    "        rank = rank\n",
    "    )\n",
    "\n",
    "    model = als.fit(training)\n",
    "    \n",
    "    if should_test == True:\n",
    "        # Evaluate the model by computing the RMSE on the test data\n",
    "        predictions = model.transform(test)\n",
    "        evaluator = RegressionEvaluator(metricName=\"rmse\", labelCol=\"rating\",\n",
    "                                        predictionCol=\"prediction\")\n",
    "\n",
    "        rmse = evaluator.evaluate(predictions)\n",
    "        print(\"Root-mean-square error = \" + str(rmse), \"Regularization Parameter:\", reg)\n",
    "    return model"
   ]
  },
  {
   "cell_type": "code",
   "execution_count": 106,
   "metadata": {},
   "outputs": [
    {
     "name": "stdout",
     "output_type": "stream",
     "text": [
      "Root-mean-square error = 0.1700715912343747 Regularization Parameter: 0.01\n",
      "Root-mean-square error = 0.1672929437896569 Regularization Parameter: 0.02\n",
      "Root-mean-square error = 0.16756545280318474 Regularization Parameter: 0.03\n",
      "Root-mean-square error = 0.16981067519540283 Regularization Parameter: 0.04\n",
      "Root-mean-square error = 0.17314498476084672 Regularization Parameter: 0.05\n",
      "Root-mean-square error = 0.17762697445392028 Regularization Parameter: 0.060000000000000005\n",
      "Root-mean-square error = 0.18309167253872816 Regularization Parameter: 0.06999999999999999\n",
      "Root-mean-square error = 0.18868554910324853 Regularization Parameter: 0.08\n",
      "Root-mean-square error = 0.19380142703294706 Regularization Parameter: 0.09\n"
     ]
    }
   ],
   "source": [
    "for reg in np.arange(0.01,0.1,0.01):\n",
    "    fit_als(training,test,reg,rank=5) "
   ]
  },
  {
   "cell_type": "code",
   "execution_count": 120,
   "metadata": {},
   "outputs": [],
   "source": [
    "def recommend_games(game_list,ratings_df,game_df):\n",
    "#get game ids\n",
    "    game_ids = []\n",
    "    for game in game_list:\n",
    "        game_ids.append(\n",
    "            game_df\n",
    "            .filter(\n",
    "                game_df.name.like('%'+game+'%')\n",
    "            )\n",
    "                #col('name')==game)\n",
    "            .select('id')\n",
    "            .rdd.flatMap(list).first()\n",
    "        )\n",
    "\n",
    "    #build dataframe\n",
    "    user_id = 9999999\n",
    "\n",
    "    my_ratings = [(user_id,game_id,1) for game_id in game_ids]\n",
    "\n",
    "    my_ratings_df = sql_c.createDataFrame(my_ratings,['user','game','rating'])\n",
    "\n",
    "    #my_ratings_df.show()\n",
    "    #join\n",
    "    training_with_my_ratings_df = ratings_df.union(my_ratings_df)\n",
    "\n",
    "    als = ALS(\n",
    "        maxIter=5,\n",
    "        regParam=0.04, \n",
    "        userCol=\"user\", itemCol=\"game\", ratingCol=\"rating\",\n",
    "        coldStartStrategy=\"drop\",\n",
    "        implicitPrefs=False,\n",
    "        rank = 10\n",
    "    )\n",
    "    \n",
    "    df = training_with_my_ratings_df.select(\n",
    "            [col(c).cast('float') for c in ratings.columns]\n",
    "        ).na.drop()\n",
    "    \n",
    "    model = als.fit(df)\n",
    "    \n",
    "    recommended_games = sql_c.createDataFrame(\n",
    "        model.recommendForUserSubset(\n",
    "            df.filter(col('user')==user_id).select('user'), 10\n",
    "        ).select('recommendations').rdd.flatMap(list).first()\n",
    "    )\n",
    "    \n",
    "    return recommended_games.join(\n",
    "        game_df,\n",
    "        recommended_games.game==game_df.id\n",
    "    ).select(['name','rating']).toPandas() "
   ]
  },
  {
   "cell_type": "code",
   "execution_count": 124,
   "metadata": {},
   "outputs": [
    {
     "data": {
      "text/html": [
       "<div>\n",
       "<style scoped>\n",
       "    .dataframe tbody tr th:only-of-type {\n",
       "        vertical-align: middle;\n",
       "    }\n",
       "\n",
       "    .dataframe tbody tr th {\n",
       "        vertical-align: top;\n",
       "    }\n",
       "\n",
       "    .dataframe thead th {\n",
       "        text-align: right;\n",
       "    }\n",
       "</style>\n",
       "<table border=\"1\" class=\"dataframe\">\n",
       "  <thead>\n",
       "    <tr style=\"text-align: right;\">\n",
       "      <th></th>\n",
       "      <th>name</th>\n",
       "      <th>rating</th>\n",
       "    </tr>\n",
       "  </thead>\n",
       "  <tbody>\n",
       "    <tr>\n",
       "      <th>0</th>\n",
       "      <td>Major\\Minor - EA</td>\n",
       "      <td>1.462579</td>\n",
       "    </tr>\n",
       "    <tr>\n",
       "      <th>1</th>\n",
       "      <td>Construct 2 Personal</td>\n",
       "      <td>1.387183</td>\n",
       "    </tr>\n",
       "    <tr>\n",
       "      <th>2</th>\n",
       "      <td>Football Manager 2015</td>\n",
       "      <td>1.321476</td>\n",
       "    </tr>\n",
       "    <tr>\n",
       "      <th>3</th>\n",
       "      <td>Football Manager 2016</td>\n",
       "      <td>1.283535</td>\n",
       "    </tr>\n",
       "    <tr>\n",
       "      <th>4</th>\n",
       "      <td>Counter-Strike: Global Offensive</td>\n",
       "      <td>1.278712</td>\n",
       "    </tr>\n",
       "    <tr>\n",
       "      <th>5</th>\n",
       "      <td>Football Manager 2013</td>\n",
       "      <td>1.275516</td>\n",
       "    </tr>\n",
       "    <tr>\n",
       "      <th>6</th>\n",
       "      <td>Football Manager 2012</td>\n",
       "      <td>1.264505</td>\n",
       "    </tr>\n",
       "    <tr>\n",
       "      <th>7</th>\n",
       "      <td>MLB 2K12</td>\n",
       "      <td>1.264489</td>\n",
       "    </tr>\n",
       "    <tr>\n",
       "      <th>8</th>\n",
       "      <td>Football Manager 2014</td>\n",
       "      <td>1.251777</td>\n",
       "    </tr>\n",
       "    <tr>\n",
       "      <th>9</th>\n",
       "      <td>MAGIX Movie Edit Pro 2013 Plus</td>\n",
       "      <td>1.206161</td>\n",
       "    </tr>\n",
       "  </tbody>\n",
       "</table>\n",
       "</div>"
      ],
      "text/plain": [
       "                               name    rating\n",
       "0                  Major\\Minor - EA  1.462579\n",
       "1              Construct 2 Personal  1.387183\n",
       "2             Football Manager 2015  1.321476\n",
       "3             Football Manager 2016  1.283535\n",
       "4  Counter-Strike: Global Offensive  1.278712\n",
       "5             Football Manager 2013  1.275516\n",
       "6             Football Manager 2012  1.264505\n",
       "7                          MLB 2K12  1.264489\n",
       "8             Football Manager 2014  1.251777\n",
       "9    MAGIX Movie Edit Pro 2013 Plus  1.206161"
      ]
     },
     "execution_count": 124,
     "metadata": {},
     "output_type": "execute_result"
    }
   ],
   "source": [
    "recommend_games(['Counter-Strike','Rocket League'],ratings,games) "
   ]
  },
  {
   "cell_type": "code",
   "execution_count": 125,
   "metadata": {},
   "outputs": [
    {
     "data": {
      "text/html": [
       "<div>\n",
       "<style scoped>\n",
       "    .dataframe tbody tr th:only-of-type {\n",
       "        vertical-align: middle;\n",
       "    }\n",
       "\n",
       "    .dataframe tbody tr th {\n",
       "        vertical-align: top;\n",
       "    }\n",
       "\n",
       "    .dataframe thead th {\n",
       "        text-align: right;\n",
       "    }\n",
       "</style>\n",
       "<table border=\"1\" class=\"dataframe\">\n",
       "  <thead>\n",
       "    <tr style=\"text-align: right;\">\n",
       "      <th></th>\n",
       "      <th>name</th>\n",
       "      <th>rating</th>\n",
       "    </tr>\n",
       "  </thead>\n",
       "  <tbody>\n",
       "    <tr>\n",
       "      <th>0</th>\n",
       "      <td>Construct 2 Personal</td>\n",
       "      <td>1.572344</td>\n",
       "    </tr>\n",
       "    <tr>\n",
       "      <th>1</th>\n",
       "      <td>Major\\Minor - EA</td>\n",
       "      <td>1.480731</td>\n",
       "    </tr>\n",
       "    <tr>\n",
       "      <th>2</th>\n",
       "      <td>Counter-Strike: Global Offensive</td>\n",
       "      <td>1.401852</td>\n",
       "    </tr>\n",
       "    <tr>\n",
       "      <th>3</th>\n",
       "      <td>Maya LT</td>\n",
       "      <td>1.396167</td>\n",
       "    </tr>\n",
       "    <tr>\n",
       "      <th>4</th>\n",
       "      <td>Grand Theft Auto V</td>\n",
       "      <td>1.351077</td>\n",
       "    </tr>\n",
       "    <tr>\n",
       "      <th>5</th>\n",
       "      <td>Siralim 2</td>\n",
       "      <td>1.343995</td>\n",
       "    </tr>\n",
       "    <tr>\n",
       "      <th>6</th>\n",
       "      <td>Football Manager 2015</td>\n",
       "      <td>1.343987</td>\n",
       "    </tr>\n",
       "    <tr>\n",
       "      <th>7</th>\n",
       "      <td>Football Manager 2016</td>\n",
       "      <td>1.325262</td>\n",
       "    </tr>\n",
       "    <tr>\n",
       "      <th>8</th>\n",
       "      <td>MAGIX Movie Edit Pro 2013 Plus</td>\n",
       "      <td>1.322966</td>\n",
       "    </tr>\n",
       "    <tr>\n",
       "      <th>9</th>\n",
       "      <td>Don Bradman Cricket 14</td>\n",
       "      <td>1.314129</td>\n",
       "    </tr>\n",
       "  </tbody>\n",
       "</table>\n",
       "</div>"
      ],
      "text/plain": [
       "                               name    rating\n",
       "0              Construct 2 Personal  1.572344\n",
       "1                  Major\\Minor - EA  1.480731\n",
       "2  Counter-Strike: Global Offensive  1.401852\n",
       "3                           Maya LT  1.396167\n",
       "4                Grand Theft Auto V  1.351077\n",
       "5                         Siralim 2  1.343995\n",
       "6             Football Manager 2015  1.343987\n",
       "7             Football Manager 2016  1.325262\n",
       "8    MAGIX Movie Edit Pro 2013 Plus  1.322966\n",
       "9            Don Bradman Cricket 14  1.314129"
      ]
     },
     "execution_count": 125,
     "metadata": {},
     "output_type": "execute_result"
    }
   ],
   "source": [
    "recommend_games(['DOOM','Turok',],ratings,games) "
   ]
  },
  {
   "cell_type": "code",
   "execution_count": 123,
   "metadata": {},
   "outputs": [
    {
     "data": {
      "text/html": [
       "<div>\n",
       "<style scoped>\n",
       "    .dataframe tbody tr th:only-of-type {\n",
       "        vertical-align: middle;\n",
       "    }\n",
       "\n",
       "    .dataframe tbody tr th {\n",
       "        vertical-align: top;\n",
       "    }\n",
       "\n",
       "    .dataframe thead th {\n",
       "        text-align: right;\n",
       "    }\n",
       "</style>\n",
       "<table border=\"1\" class=\"dataframe\">\n",
       "  <thead>\n",
       "    <tr style=\"text-align: right;\">\n",
       "      <th></th>\n",
       "      <th>name</th>\n",
       "      <th>rating</th>\n",
       "    </tr>\n",
       "  </thead>\n",
       "  <tbody>\n",
       "    <tr>\n",
       "      <th>0</th>\n",
       "      <td>Hounds: The Last Hope</td>\n",
       "      <td>1.416453</td>\n",
       "    </tr>\n",
       "    <tr>\n",
       "      <th>1</th>\n",
       "      <td>Construct 2 Personal</td>\n",
       "      <td>1.395079</td>\n",
       "    </tr>\n",
       "    <tr>\n",
       "      <th>2</th>\n",
       "      <td>Square Arena</td>\n",
       "      <td>1.367385</td>\n",
       "    </tr>\n",
       "    <tr>\n",
       "      <th>3</th>\n",
       "      <td>Root Double -Before Crime * After Days- Xtend ...</td>\n",
       "      <td>1.360764</td>\n",
       "    </tr>\n",
       "    <tr>\n",
       "      <th>4</th>\n",
       "      <td>Getsuei Gakuen -kou-</td>\n",
       "      <td>1.359375</td>\n",
       "    </tr>\n",
       "    <tr>\n",
       "      <th>5</th>\n",
       "      <td>Campus Notes - forget me not.</td>\n",
       "      <td>1.358148</td>\n",
       "    </tr>\n",
       "    <tr>\n",
       "      <th>6</th>\n",
       "      <td>LostWinds 2: Winter of the Melodias</td>\n",
       "      <td>1.351925</td>\n",
       "    </tr>\n",
       "    <tr>\n",
       "      <th>7</th>\n",
       "      <td>The Beggar's Ride</td>\n",
       "      <td>1.351219</td>\n",
       "    </tr>\n",
       "    <tr>\n",
       "      <th>8</th>\n",
       "      <td>Borstal</td>\n",
       "      <td>1.343642</td>\n",
       "    </tr>\n",
       "    <tr>\n",
       "      <th>9</th>\n",
       "      <td>Empty Soul - S&amp;S Edition</td>\n",
       "      <td>1.338934</td>\n",
       "    </tr>\n",
       "  </tbody>\n",
       "</table>\n",
       "</div>"
      ],
      "text/plain": [
       "                                                name    rating\n",
       "0                              Hounds: The Last Hope  1.416453\n",
       "1                               Construct 2 Personal  1.395079\n",
       "2                                       Square Arena  1.367385\n",
       "3  Root Double -Before Crime * After Days- Xtend ...  1.360764\n",
       "4                               Getsuei Gakuen -kou-  1.359375\n",
       "5                      Campus Notes - forget me not.  1.358148\n",
       "6                LostWinds 2: Winter of the Melodias  1.351925\n",
       "7                                  The Beggar's Ride  1.351219\n",
       "8                                            Borstal  1.343642\n",
       "9                           Empty Soul - S&S Edition  1.338934"
      ]
     },
     "execution_count": 123,
     "metadata": {},
     "output_type": "execute_result"
    }
   ],
   "source": [
    "recommend_games(['GTA','Elder Scrolls V: Skyrim',],ratings,games) "
   ]
  },
  {
   "cell_type": "code",
   "execution_count": null,
   "metadata": {},
   "outputs": [],
   "source": [
    "#Next Steps: Go back and mess with implicit ratings, and check ideal distributions for ALS"
   ]
  }
 ],
 "metadata": {
  "kernelspec": {
   "display_name": "Python 3",
   "language": "python",
   "name": "python3"
  },
  "language_info": {
   "codemirror_mode": {
    "name": "ipython",
    "version": 3
   },
   "file_extension": ".py",
   "mimetype": "text/x-python",
   "name": "python",
   "nbconvert_exporter": "python",
   "pygments_lexer": "ipython3",
   "version": "3.7.3"
  }
 },
 "nbformat": 4,
 "nbformat_minor": 2
}
